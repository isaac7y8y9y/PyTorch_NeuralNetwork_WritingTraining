{
  "cells": [
    {
      "cell_type": "markdown",
      "metadata": {
        "id": "view-in-github",
        "colab_type": "text"
      },
      "source": [
        "<a href=\"https://colab.research.google.com/github/isaac7y8y9y/PyTorch_NeuralNetwork_WritingTraining/blob/main/neuralNetwork.ipynb\" target=\"_parent\"><img src=\"https://colab.research.google.com/assets/colab-badge.svg\" alt=\"Open In Colab\"/></a>"
      ]
    },
    {
      "cell_type": "code",
      "execution_count": null,
      "metadata": {
        "colab": {
          "base_uri": "https://localhost:8080/",
          "height": 1000
        },
        "id": "3HizvP_VgIxe",
        "outputId": "bdfc9fd2-8026-4e06-d0d4-6b1a86fe0c20"
      },
      "outputs": [
        {
          "output_type": "stream",
          "name": "stdout",
          "text": [
            "Downloading http://yann.lecun.com/exdb/mnist/train-images-idx3-ubyte.gz\n",
            "Downloading http://yann.lecun.com/exdb/mnist/train-images-idx3-ubyte.gz to ./MNIST/raw/train-images-idx3-ubyte.gz\n"
          ]
        },
        {
          "output_type": "stream",
          "name": "stderr",
          "text": [
            "100%|██████████| 9912422/9912422 [00:00<00:00, 100428304.58it/s]\n"
          ]
        },
        {
          "output_type": "stream",
          "name": "stdout",
          "text": [
            "Extracting ./MNIST/raw/train-images-idx3-ubyte.gz to ./MNIST/raw\n",
            "\n",
            "Downloading http://yann.lecun.com/exdb/mnist/train-labels-idx1-ubyte.gz\n",
            "Downloading http://yann.lecun.com/exdb/mnist/train-labels-idx1-ubyte.gz to ./MNIST/raw/train-labels-idx1-ubyte.gz\n"
          ]
        },
        {
          "output_type": "stream",
          "name": "stderr",
          "text": [
            "100%|██████████| 28881/28881 [00:00<00:00, 7362529.25it/s]\n"
          ]
        },
        {
          "output_type": "stream",
          "name": "stdout",
          "text": [
            "Extracting ./MNIST/raw/train-labels-idx1-ubyte.gz to ./MNIST/raw\n",
            "\n",
            "Downloading http://yann.lecun.com/exdb/mnist/t10k-images-idx3-ubyte.gz\n",
            "Downloading http://yann.lecun.com/exdb/mnist/t10k-images-idx3-ubyte.gz to ./MNIST/raw/t10k-images-idx3-ubyte.gz\n"
          ]
        },
        {
          "output_type": "stream",
          "name": "stderr",
          "text": [
            "100%|██████████| 1648877/1648877 [00:00<00:00, 23065580.51it/s]\n"
          ]
        },
        {
          "output_type": "stream",
          "name": "stdout",
          "text": [
            "Extracting ./MNIST/raw/t10k-images-idx3-ubyte.gz to ./MNIST/raw\n",
            "\n",
            "Downloading http://yann.lecun.com/exdb/mnist/t10k-labels-idx1-ubyte.gz\n",
            "Downloading http://yann.lecun.com/exdb/mnist/t10k-labels-idx1-ubyte.gz to ./MNIST/raw/t10k-labels-idx1-ubyte.gz\n"
          ]
        },
        {
          "output_type": "stream",
          "name": "stderr",
          "text": [
            "100%|██████████| 4542/4542 [00:00<00:00, 10507737.88it/s]"
          ]
        },
        {
          "output_type": "stream",
          "name": "stdout",
          "text": [
            "Extracting ./MNIST/raw/t10k-labels-idx1-ubyte.gz to ./MNIST/raw\n",
            "\n"
          ]
        },
        {
          "output_type": "stream",
          "name": "stderr",
          "text": [
            "\n"
          ]
        },
        {
          "output_type": "stream",
          "name": "stdout",
          "text": [
            "Epoch 1\n",
            "-------------------------------\n",
            "loss: 2.304394  [    0/60000]\n",
            "Test Error: \n",
            " Accuracy: 43.3%, Avg loss: 2.252662 \n",
            "\n",
            "Epoch 2\n",
            "-------------------------------\n",
            "loss: 2.254162  [    0/60000]\n",
            "Test Error: \n",
            " Accuracy: 55.3%, Avg loss: 2.180907 \n",
            "\n",
            "Epoch 3\n",
            "-------------------------------\n",
            "loss: 2.179921  [    0/60000]\n",
            "Test Error: \n",
            " Accuracy: 63.0%, Avg loss: 2.059398 \n",
            "\n",
            "Epoch 4\n",
            "-------------------------------\n",
            "loss: 2.061046  [    0/60000]\n",
            "Test Error: \n",
            " Accuracy: 68.9%, Avg loss: 1.852602 \n",
            "\n",
            "Epoch 5\n",
            "-------------------------------\n",
            "loss: 1.893765  [    0/60000]\n",
            "Test Error: \n",
            " Accuracy: 73.0%, Avg loss: 1.553103 \n",
            "\n",
            "Epoch 6\n",
            "-------------------------------\n",
            "loss: 1.489589  [    0/60000]\n",
            "Test Error: \n",
            " Accuracy: 76.5%, Avg loss: 1.241360 \n",
            "\n",
            "Epoch 7\n",
            "-------------------------------\n",
            "loss: 1.307330  [    0/60000]\n",
            "Test Error: \n",
            " Accuracy: 79.0%, Avg loss: 1.005875 \n",
            "\n",
            "Epoch 8\n",
            "-------------------------------\n",
            "loss: 1.018492  [    0/60000]\n",
            "Test Error: \n",
            " Accuracy: 81.1%, Avg loss: 0.844044 \n",
            "\n",
            "Epoch 9\n",
            "-------------------------------\n",
            "loss: 0.800875  [    0/60000]\n",
            "Test Error: \n",
            " Accuracy: 82.8%, Avg loss: 0.734591 \n",
            "\n",
            "Done!\n"
          ]
        },
        {
          "output_type": "display_data",
          "data": {
            "text/plain": [
              "<Figure size 800x800 with 25 Axes>"
            ],
            "image/png": "[encoded data removed]"
          },
          "metadata": {}
        }
      ],
      "source": [
        "import torch\n",
        "from torch.utils.data import DataLoader\n",
        "from torch import nn\n",
        "import numpy as np\n",
        "from torchvision import datasets\n",
        "from torchvision.transforms import ToTensor\n",
        "import matplotlib.pyplot as plt\n",
        "\n",
        "\n",
        "\"\"\"\n",
        "\n",
        "This script train neural network to write numerial value.\n",
        "\n",
        "As an example, we'll download the MNIST dataset. The MNIST is a dataset of images of handwritten digits,\n",
        " containing 60 thousand samples and a test set of 10 thousand images.\n",
        "\n",
        "\"\"\"\n",
        "\n",
        "\n",
        "class NeuralNetwork(nn.Module):\n",
        "    def __init__(self):\n",
        "        super(NeuralNetwork, self).__init__()\n",
        "\n",
        "        #nn.Flaten transform data from multidimensional to one dimensional\n",
        "        self.flatten = nn.Flatten()\n",
        "\n",
        "        #nn.Sequential creates a layers inside the network\n",
        "        self.linear_relu_stack = nn.Sequential(\n",
        "            nn.Linear(28*28, 512),\n",
        "            nn.ReLU(),\n",
        "            nn.Linear(512, 512),\n",
        "            nn.ReLU(),\n",
        "            nn.Linear(512, 10),\n",
        "        )\n",
        "\n",
        "    #this forward func called when the model is executed, but should not be called directly\n",
        "    def forward(self, x):\n",
        "        x = self.flatten(x)\n",
        "        logits = self.linear_relu_stack(x)\n",
        "        return logits\n",
        "\n",
        "\n",
        "#feed MNSIT data to the neural network model\n",
        "def train(dataloader, model, loss_fn, optimizer):\n",
        "    size = len(dataloader.dataset)\n",
        "    for batch, (X, y) in enumerate(dataloader):\n",
        "        pred = model(X)\n",
        "        loss = loss_fn(pred, y)\n",
        "\n",
        "        optimizer.zero_grad()\n",
        "        loss.backward()\n",
        "        optimizer.step()\n",
        "\n",
        "        if batch % 1000 == 0:\n",
        "            loss, current = loss.item(), batch * len(X)\n",
        "            print(f\"loss: {loss:>7f}  [{current:>5d}/{size:>5d}]\")\n",
        "\n",
        "\n",
        "#test how accurate nerual network learn writing number\n",
        "def test(dataloader, model, loss_fn):\n",
        "    size = len(dataloader.dataset)\n",
        "    num_batches = len(dataloader)\n",
        "    test_loss, correct = 0, 0\n",
        "\n",
        "    with torch.no_grad():\n",
        "        for X, y in dataloader:\n",
        "            pred = model(X)\n",
        "            test_loss += loss_fn(pred, y).item()\n",
        "            correct += (pred.argmax(1) == y).type(torch.float).sum().item()\n",
        "\n",
        "    test_loss /= num_batches\n",
        "    correct /= size\n",
        "    print(f\"Test Error: \\n Accuracy: {(100*correct):>0.1f}%, Avg loss: {test_loss:>8f} \\n\")\n",
        "\n",
        "training_data = datasets.MNIST(root=\".\", train=True, download=True, transform=ToTensor())\n",
        "\n",
        "test_data = datasets.MNIST(root=\".\", train=False, download=True, transform=ToTensor())\n",
        "\n",
        "# train and load writing data\n",
        "loaded_train = DataLoader(training_data, batch_size=64, shuffle=True)\n",
        "loaded_test = DataLoader(test_data, batch_size=64, shuffle=True)\n",
        "\n",
        "model = NeuralNetwork()\n",
        "\n",
        "#loss function measures how far our model is from the correct results, and it's\n",
        "#what we'll try to minimize during the training of the network\n",
        "loss_function = nn.CrossEntropyLoss()\n",
        "\n",
        "#optimizer is an algorithm in charge of adjusting the model during the training\n",
        "#process to minimize the error measured by the loss function\n",
        "optimizer = torch.optim.SGD(model.parameters(), lr=0.001)\n",
        "\n",
        "\n",
        "\n",
        "epochs = 9\n",
        "for t in range(epochs):\n",
        "    print(f\"Epoch {t+1}\\n-------------------------------\")\n",
        "    train(loaded_train, model, loss_function, optimizer)\n",
        "    test(loaded_test, model, loss_function)\n",
        "print(\"Done!\")\n",
        "\n",
        "#below used to plot the graph\n",
        "\n",
        "figure = plt.figure(figsize=(8, 8))\n",
        "cols, rows = 5, 5\n",
        "\n",
        "for i in range(1, cols * rows + 1):\n",
        "    sample_idx = torch.randint(len(training_data), size=(1,)).item()\n",
        "    img, label = training_data[sample_idx]\n",
        "    figure.add_subplot(rows, cols, i)\n",
        "    plt.axis(\"off\")\n",
        "    plt.imshow(img.squeeze(), cmap=\"gray\")\n",
        "\n",
        "plt.show()"
      ]
    },
    {
      "cell_type": "code",
      "execution_count": null,
      "metadata": {
        "id": "wy0uiGHpgI2z"
      },
      "outputs": [],
      "source": []
    }
  ],
  "metadata": {
    "colab": {
      "provenance": [],
      "authorship_tag": "ABX9TyOs6kqYJEYm4Fdnz8EKKNbn",
      "include_colab_link": true
    },
    "kernelspec": {
      "display_name": "Python 3",
      "name": "python3"
    },
    "language_info": {
      "name": "python"
    }
  },
  "nbformat": 4,
  "nbformat_minor": 0
}